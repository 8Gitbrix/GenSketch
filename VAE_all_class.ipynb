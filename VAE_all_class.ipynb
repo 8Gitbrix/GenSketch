{
  "nbformat": 4,
  "nbformat_minor": 0,
  "metadata": {
    "colab": {
      "name": "VAE_all_class.ipynb",
      "provenance": [],
      "collapsed_sections": []
    },
    "kernelspec": {
      "name": "python3",
      "display_name": "Python 3"
    }
  },
  "cells": [
    {
      "cell_type": "code",
      "metadata": {
        "id": "i_OdDU_o-YFr",
        "colab_type": "code",
        "colab": {}
      },
      "source": [
        "import matplotlib.pyplot as plt\n",
        "import urllib.request\n",
        "from PIL import Image\n",
        "import numpy as np\n",
        "import subprocess\n",
        "import json\n",
        "import PIL\n",
        "import os\n",
        "from PIL import Image\n",
        "import PIL.ImageOps\n",
        "from matplotlib import cm\n",
        "from google.colab import files\n",
        "import shutil\n",
        "\n",
        "from torch import nn, Tensor\n",
        "import torch.nn as nn\n",
        "import torch.optim as optim\n",
        "import torch.nn.functional as F\n",
        "from torch.utils.data import Dataset, DataLoader, TensorDataset\n",
        "from torchvision import transforms\n",
        "from sklearn.preprocessing import StandardScaler"
      ],
      "execution_count": 0,
      "outputs": []
    },
    {
      "cell_type": "code",
      "metadata": {
        "id": "9HLiRmwb-fc9",
        "colab_type": "code",
        "outputId": "573d09e2-97c7-46e5-abfb-406b741ef90d",
        "colab": {
          "base_uri": "https://localhost:8080/",
          "height": 124
        }
      },
      "source": [
        "from google.colab import drive\n",
        "root_dir = '/content/drive/'\n",
        "drive.mount(root_dir, force_remount = True)"
      ],
      "execution_count": 0,
      "outputs": [
        {
          "output_type": "stream",
          "text": [
            "Go to this URL in a browser: https://accounts.google.com/o/oauth2/auth?client_id=947318989803-6bn6qk8qdgf4n4g3pfee6491hc0brc4i.apps.googleusercontent.com&redirect_uri=urn%3aietf%3awg%3aoauth%3a2.0%3aoob&response_type=code&scope=email%20https%3a%2f%2fwww.googleapis.com%2fauth%2fdocs.test%20https%3a%2f%2fwww.googleapis.com%2fauth%2fdrive%20https%3a%2f%2fwww.googleapis.com%2fauth%2fdrive.photos.readonly%20https%3a%2f%2fwww.googleapis.com%2fauth%2fpeopleapi.readonly\n",
            "\n",
            "Enter your authorization code:\n",
            "··········\n",
            "Mounted at /content/drive/\n"
          ],
          "name": "stdout"
        }
      ]
    },
    {
      "cell_type": "code",
      "metadata": {
        "id": "ryWXVr6J-jbY",
        "colab_type": "code",
        "outputId": "392bce19-cb14-40a1-9c78-047d3ac3a6f7",
        "colab": {
          "base_uri": "https://localhost:8080/",
          "height": 54
        }
      },
      "source": [
        "base_dir = root_dir + 'My Drive/ML_Project/Dataset'\n",
        "\n",
        "file_names = os.listdir(base_dir)\n",
        "print(file_names)"
      ],
      "execution_count": 0,
      "outputs": [
        {
          "output_type": "stream",
          "text": [
            "['tree.npy', 't-shirt.npy', 'ice cream.npy', 'fish.npy', 'face.npy', 'car.npy', 'bowtie.npy', 'apple.npy', 'flamingo.npy', 'sheep.npy']\n"
          ],
          "name": "stdout"
        }
      ]
    },
    {
      "cell_type": "code",
      "metadata": {
        "id": "tK9zeLkT-kvW",
        "colab_type": "code",
        "colab": {}
      },
      "source": [
        "classes = ['tree.npy', 't-shirt.npy', 'ice cream.npy', 'fish.npy', 'face.npy', 'car.npy', 'bowtie.npy', 'apple.npy', 'flamingo.npy', 'sheep.npy']\n"
      ],
      "execution_count": 0,
      "outputs": []
    },
    {
      "cell_type": "code",
      "metadata": {
        "id": "e6dMYA0L-mt7",
        "colab_type": "code",
        "colab": {}
      },
      "source": [
        "def save_png(rows=5):\n",
        "    num_classes = len(classes)\n",
        "    '''\n",
        "    Converts the npy array to png\n",
        "    '''\n",
        "    c = 1 #THE CLASS YOU WANT TO CONVERT\n",
        "    arr = np.load(f'{root_dir}/My Drive/ML_Project/Dataset/{classes[c]}.npy')    \n",
        "\n",
        "    print('CONVERTING CLASS ',classes[c])\n",
        "\n",
        "    rows = len(arr)\n",
        "    os.mkdir(classes[c])\n",
        "    for i in range(rows): \n",
        "      inv_myarray = arr[i, :784].reshape((28,28))\n",
        "      ones = np.ones((28,28))\n",
        "      myarray = ones-inv_myarray\n",
        "      im = Image.fromarray(np.uint8(cm.gray(myarray)*255)).convert('RGB')\n",
        "      filename = classes[c]+'/img'+\"{:07n}\".format(i)+'.png'\n",
        "      im.save(filename, \"PNG\")"
      ],
      "execution_count": 0,
      "outputs": []
    },
    {
      "cell_type": "code",
      "metadata": {
        "id": "kBuB2VJ-Za4M",
        "colab_type": "code",
        "colab": {}
      },
      "source": [
        "def load_data(batch_size = 128):\n",
        "    \"\"\"\n",
        "    Returns a list of PyTorch DataLoaders in order of train, validation, and test loaders\n",
        "    \"\"\"\n",
        "    dirnames = [root_dir + 'My Drive/ML_Project/Train/', root_dir + 'My Drive/ML_Project/Validation/', root_dir + 'My Drive/ML_Project/Test/']\n",
        "    loaders = []\n",
        "\n",
        "    scaler = StandardScaler()\n",
        "    for dirname in dirnames:\n",
        "        dataname = os.listdir(dirname)[0]\n",
        "        X = np.load(dirname + dataname)['data'].reshape(-1, 28, 28)\n",
        "        ys = np.load(dirname + dataname)['target']\n",
        "\n",
        "        xs = np.copy(X)\n",
        "        for sample in range(len(X)):\n",
        "            samplex = X[sample,:,:]\n",
        "            xs[sample,:,:] = scaler.fit_transform(samplex)\n",
        "\n",
        "        print(f'Loading {dataname} into Pytorch Dataloader ... Xs shape: {xs.shape}, Ys shape: {ys.shape}')\n",
        "        loaders.append(DataLoader(TensorDataset(Tensor(xs), Tensor(ys)), batch_size = batch_size, shuffle=True))\n",
        "    \n",
        "    return loaders"
      ],
      "execution_count": 0,
      "outputs": []
    },
    {
      "cell_type": "code",
      "metadata": {
        "id": "rdLF3EGThhbi",
        "colab_type": "code",
        "colab": {}
      },
      "source": [
        "def plot_samples(xs, ys, batch_size = 256, rows = 2):\n",
        "    classes = ['tree.npy', 't-shirt.npy', 'ice cream.npy', 'fish.npy', 'face.npy', 'car.npy', 'bowtie.npy', 'apple.npy', 'flamingo.npy', 'sheep.npy']\n",
        "    num_classes = len(classes)\n",
        "    '''\n",
        "    Plots row number of samples from each class\n",
        "    '''\n",
        "\n",
        "    fig, axs = plt.subplots(figsize=(num_classes,rows))\n",
        "    axs.axis('off')\n",
        "    xs = xs.reshape(xs.shape[0], 28, 28)\n",
        "    \n",
        "    for i in range(rows * num_classes): \n",
        "        c = i % num_classes\n",
        "        class_indices = np.argwhere(ys == c).squeeze()\n",
        "        ci = i % len(class_indices)\n",
        "        curr = class_indices[ci]\n",
        "        \n",
        "        a = fig.add_subplot(rows, num_classes, i + 1)\n",
        "\n",
        "        imgplot = plt.imshow(xs[curr, :].reshape((28, 28)), cmap='gray_r', interpolation='nearest')\n",
        "        plt.xticks([])\n",
        "        plt.yticks([])\n",
        "    plt.show()"
      ],
      "execution_count": 0,
      "outputs": []
    },
    {
      "cell_type": "markdown",
      "metadata": {
        "id": "IZMhYRNw_LSf",
        "colab_type": "text"
      },
      "source": [
        "VAE Model"
      ]
    },
    {
      "cell_type": "code",
      "metadata": {
        "id": "8JuCB1H9_MZr",
        "colab_type": "code",
        "colab": {}
      },
      "source": [
        "import torch\n",
        "import torch.nn as nn\n",
        "from torch.nn import functional as F\n",
        "\n",
        "class VAE_all_class(nn.Module):\n",
        "    def __init__(self, Nz):\n",
        "        \"\"\"\n",
        "        Nz is the number of latent features network is trying to learn\n",
        "        \"\"\"\n",
        "        super(VAE_all_class, self).__init__()\n",
        "        self.Nz = Nz\n",
        "\n",
        "        # Encoder: \n",
        "        self.conv1 = nn.Conv2d(in_channels=1, out_channels=3, kernel_size=3, padding=1)\n",
        "        self.conv2 = nn.Conv2d(in_channels=3, out_channels=3, kernel_size=3, padding=1)\n",
        "        self.conv3 = nn.Conv2d(in_channels=3, out_channels=3, kernel_size=3, padding=1)\n",
        "        self.mp = nn.MaxPool2d(2, 2)\n",
        "\n",
        "        self.fc1 = nn.Linear(3 * 14 * 14, Nz)\n",
        "        self.fc2 = nn.Linear(3 * 14 * 14, Nz)\n",
        "        \n",
        "        self.up1 = nn.UpsamplingNearest2d(scale_factor=2)\n",
        "        self.pad1 = nn.ReplicationPad2d(1)\n",
        "\n",
        "        # Decoder:\n",
        "        self.l1 = nn.Linear(Nz, 3 * 14 * 14)\n",
        "        self.up1 = nn.UpsamplingNearest2d(scale_factor=2)\n",
        "        self.pad1 = nn.ReplicationPad2d(1)\n",
        "        self.d_conv1 = nn.Conv2d(3, 1, 3, 1)\n",
        "        self.sigmoid = nn.Sigmoid()\n",
        "    \n",
        "    def encode(self, x):\n",
        "        x = F.relu(self.conv1(x))\n",
        "        x = F.relu(self.conv2(x))\n",
        "        x = self.mp(F.relu(self.conv3(x)))\n",
        "        # Resize from (batch_size, num_classes, w, h) to (batch_size,num_classes*w*h)\n",
        "        x = x.view(x.shape[0], -1)\n",
        "\n",
        "        mu = F.relu(self.fc1(x))\n",
        "        logvar = F.relu(self.fc2(x))\n",
        "        return mu, logvar\n",
        "    \n",
        "    def decode(self, latent):\n",
        "        x = F.relu(self.l1(latent))\n",
        "        \n",
        "        x = x.view(-1, 3, 14, 14)\n",
        "        \n",
        "        x = F.relu(self.pad1(self.up1(x)))\n",
        "        x = self.sigmoid(self.d_conv1(x))\n",
        "        return x\n",
        "    \n",
        "    def reparameterize(self, mu, logvar):\n",
        "        std = torch.exp(0.5 * logvar)\n",
        "        eps = torch.randn_like(std)\n",
        "        return mu + eps * std\n",
        "    \n",
        "    def forward(self, image):\n",
        "        mu, logvar = self.encode(image)\n",
        "        lz = self.reparameterize(mu, logvar)\n",
        "        im = self.decode(lz)\n",
        "        return im, mu, logvar"
      ],
      "execution_count": 0,
      "outputs": []
    },
    {
      "cell_type": "markdown",
      "metadata": {
        "id": "DTUXeFf5cTbb",
        "colab_type": "text"
      },
      "source": [
        "Loss Function"
      ]
    },
    {
      "cell_type": "code",
      "metadata": {
        "id": "iYAWM7t1cR3R",
        "colab_type": "code",
        "colab": {}
      },
      "source": [
        "def loss_function(z_img, img, mu, logvar):\n",
        "    \"\"\"\n",
        "    VAE loss without the KL divergence\n",
        "    \"\"\"\n",
        "    #img = torch.from_numpy(img)\n",
        "    img = img.view(-1,28*28)\n",
        "\n",
        "    return F.binary_cross_entropy(z_img, img, reduction='sum')"
      ],
      "execution_count": 0,
      "outputs": []
    },
    {
      "cell_type": "code",
      "metadata": {
        "id": "tsBfo3qF93Vx",
        "colab_type": "code",
        "colab": {}
      },
      "source": [
        "vae_model = VAE_all_class(1000)"
      ],
      "execution_count": 0,
      "outputs": []
    },
    {
      "cell_type": "code",
      "metadata": {
        "id": "2UaEVdt5-CGE",
        "colab_type": "code",
        "outputId": "2078b015-b22a-4d40-fdf5-af97fe8e97a0",
        "colab": {
          "base_uri": "https://localhost:8080/",
          "height": 34
        }
      },
      "source": [
        "checkpoint = torch.load('/content/drive/My Drive/ML_Project/vae_2.pt')\n",
        "vae_model.load_state_dict(checkpoint)"
      ],
      "execution_count": 0,
      "outputs": [
        {
          "output_type": "execute_result",
          "data": {
            "text/plain": [
              "<All keys matched successfully>"
            ]
          },
          "metadata": {
            "tags": []
          },
          "execution_count": 16
        }
      ]
    },
    {
      "cell_type": "markdown",
      "metadata": {
        "id": "PafXkW4gZOIc",
        "colab_type": "text"
      },
      "source": [
        "Train the model"
      ]
    },
    {
      "cell_type": "code",
      "metadata": {
        "id": "tEjZBdbSYp4m",
        "colab_type": "code",
        "outputId": "5f14fa8b-4899-4a59-8d3a-a00024b274fc",
        "colab": {
          "base_uri": "https://localhost:8080/",
          "height": 1000
        }
      },
      "source": [
        "epochs = 500 # plus 129 previous epochs\n",
        "trainloader, validloader, testloader  = load_data(batch_size = 256)\n",
        "optimizer = optim.Adam(vae_model.parameters(), lr=1e-3)\n",
        "\n",
        "for epoch in range(epochs):\n",
        "    avg_loss = 0.0\n",
        "    for i, (xs, ys) in enumerate(trainloader):\n",
        "        optimizer.zero_grad()\n",
        "        z_img, mu, logvar = vae_model(xs.unsqueeze(dim=1))\n",
        "        loss = loss_function(z_img, xs, mu, logvar)\n",
        "        loss.backward()\n",
        "        optimizer.step()\n",
        "        avg_loss += loss.item()\n",
        "        \n",
        "        if epoch % 10 == 0 and i == len(trainloader) - 2:\n",
        "            plot_samples(z_img.detach().numpy(), ys)\n",
        "        if epoch % 5 == 0 and i == len(trainloader) - 1:\n",
        "            torch.save(vae_model.state_dict(), '/content/drive/My Drive/ML_Project/vae_2.pt')\n",
        "    \n",
        "    print(f'Epoch {epoch+1}  | Training loss: {avg_loss / len(trainloader) : .2f}')\n"
      ],
      "execution_count": 0,
      "outputs": [
        {
          "output_type": "stream",
          "text": [
            "Loading Train.npz into Pytorch Dataloader ... Xs shape: (84000, 28, 28), Ys shape: (84000,)\n",
            "Loading Validation.npz into Pytorch Dataloader ... Xs shape: (36000, 28, 28), Ys shape: (36000,)\n",
            "Loading Test.npz into Pytorch Dataloader ... Xs shape: (30000, 28, 28), Ys shape: (30000,)\n"
          ],
          "name": "stdout"
        },
        {
          "output_type": "stream",
          "text": [
            "/usr/local/lib/python3.6/dist-packages/ipykernel_launcher.py:8: UserWarning: Using a target size (torch.Size([256, 784])) that is different to the input size (torch.Size([256, 1, 28, 28])) is deprecated. Please ensure they have the same size.\n",
            "  \n"
          ],
          "name": "stderr"
        },
        {
          "output_type": "display_data",
          "data": {
            "image/png": "[encoded data removed]",
            "text/plain": [
              "<Figure size 720x144 with 21 Axes>"
            ]
          },
          "metadata": {
            "tags": [],
            "needs_background": "light"
          }
        },
        {
          "output_type": "stream",
          "text": [
            "/usr/local/lib/python3.6/dist-packages/ipykernel_launcher.py:8: UserWarning: Using a target size (torch.Size([32, 784])) that is different to the input size (torch.Size([32, 1, 28, 28])) is deprecated. Please ensure they have the same size.\n",
            "  \n"
          ],
          "name": "stderr"
        },
        {
          "output_type": "stream",
          "text": [
            "Epoch 1  | Training loss: -2109742.11\n",
            "Epoch 2  | Training loss: -2111225.46\n",
            "Epoch 3  | Training loss: -2111805.37\n",
            "Epoch 4  | Training loss: -2112638.74\n",
            "Epoch 5  | Training loss: -2113111.06\n",
            "Epoch 6  | Training loss: -2113797.01\n",
            "Epoch 7  | Training loss: -2114176.82\n",
            "Epoch 8  | Training loss: -2114767.84\n",
            "Epoch 9  | Training loss: -2115043.20\n",
            "Epoch 10  | Training loss: -2115683.06\n"
          ],
          "name": "stdout"
        },
        {
          "output_type": "display_data",
          "data": {
            "image/png": "[encoded data removed]",
            "text/plain": [
              "<Figure size 720x144 with 21 Axes>"
            ]
          },
          "metadata": {
            "tags": [],
            "needs_background": "light"
          }
        },
        {
          "output_type": "stream",
          "text": [
            "Epoch 11  | Training loss: -2116132.88\n",
            "Epoch 12  | Training loss: -2116570.84\n",
            "Epoch 13  | Training loss: -2117171.49\n",
            "Epoch 14  | Training loss: -2117842.06\n",
            "Epoch 15  | Training loss: -2118281.23\n",
            "Epoch 16  | Training loss: -2118573.28\n",
            "Epoch 17  | Training loss: -2118908.74\n",
            "Epoch 18  | Training loss: -2119196.08\n",
            "Epoch 19  | Training loss: -2119418.64\n",
            "Epoch 20  | Training loss: -2115974.47\n"
          ],
          "name": "stdout"
        },
        {
          "output_type": "display_data",
          "data": {
            "image/png": "[encoded data removed]",
            "text/plain": [
              "<Figure size 720x144 with 21 Axes>"
            ]
          },
          "metadata": {
            "tags": [],
            "needs_background": "light"
          }
        },
        {
          "output_type": "stream",
          "text": [
            "Epoch 21  | Training loss: -2117766.83\n",
            "Epoch 22  | Training loss: -2119735.78\n",
            "Epoch 23  | Training loss: -2120797.03\n",
            "Epoch 24  | Training loss: -2121147.15\n",
            "Epoch 25  | Training loss: -2121381.88\n",
            "Epoch 26  | Training loss: -2122049.75\n",
            "Epoch 27  | Training loss: -2122416.19\n",
            "Epoch 28  | Training loss: -2122874.33\n",
            "Epoch 29  | Training loss: -2123329.24\n",
            "Epoch 30  | Training loss: -2123523.46\n"
          ],
          "name": "stdout"
        },
        {
          "output_type": "display_data",
          "data": {
            "image/png": "[encoded data removed]",
            "text/plain": [
              "<Figure size 720x144 with 21 Axes>"
            ]
          },
          "metadata": {
            "tags": [],
            "needs_background": "light"
          }
        },
        {
          "output_type": "stream",
          "text": [
            "Epoch 31  | Training loss: -2124092.78\n",
            "Epoch 32  | Training loss: -2124258.64\n",
            "Epoch 33  | Training loss: -2122424.24\n",
            "Epoch 34  | Training loss: -2127623.97\n",
            "Epoch 35  | Training loss: -2128352.19\n",
            "Epoch 36  | Training loss: -2128467.88\n",
            "Epoch 37  | Training loss: -2128925.05\n",
            "Epoch 38  | Training loss: -2129226.65\n",
            "Epoch 39  | Training loss: -2129612.77\n",
            "Epoch 40  | Training loss: -2129693.39\n"
          ],
          "name": "stdout"
        },
        {
          "output_type": "display_data",
          "data": {
            "image/png": "[encoded data removed]",
            "text/plain": [
              "<Figure size 720x144 with 21 Axes>"
            ]
          },
          "metadata": {
            "tags": [],
            "needs_background": "light"
          }
        },
        {
          "output_type": "stream",
          "text": [
            "Epoch 41  | Training loss: -2129912.54\n",
            "Epoch 42  | Training loss: -2130142.34\n",
            "Epoch 43  | Training loss: -2127493.42\n",
            "Epoch 44  | Training loss: -2129819.69\n",
            "Epoch 45  | Training loss: -2130268.94\n",
            "Epoch 46  | Training loss: -2130582.09\n",
            "Epoch 47  | Training loss: -2130809.79\n",
            "Epoch 48  | Training loss: -2130711.44\n",
            "Epoch 49  | Training loss: -2131064.51\n",
            "Epoch 50  | Training loss: -2130883.71\n"
          ],
          "name": "stdout"
        },
        {
          "output_type": "display_data",
          "data": {
            "image/png": "[encoded data removed]",
            "text/plain": [
              "<Figure size 720x144 with 21 Axes>"
            ]
          },
          "metadata": {
            "tags": [],
            "needs_background": "light"
          }
        },
        {
          "output_type": "stream",
          "text": [
            "Epoch 51  | Training loss: -2136974.98\n",
            "Epoch 52  | Training loss: -2141020.97\n",
            "Epoch 53  | Training loss: -2142101.87\n",
            "Epoch 54  | Training loss: -2142192.12\n",
            "Epoch 55  | Training loss: -2142704.78\n",
            "Epoch 56  | Training loss: -2142767.22\n",
            "Epoch 57  | Training loss: -2143063.49\n",
            "Epoch 58  | Training loss: -2143102.10\n",
            "Epoch 59  | Training loss: -2143298.03\n",
            "Epoch 60  | Training loss: -2143592.33\n"
          ],
          "name": "stdout"
        },
        {
          "output_type": "display_data",
          "data": {
            "image/png": "[encoded data removed]",
            "text/plain": [
              "<Figure size 720x144 with 21 Axes>"
            ]
          },
          "metadata": {
            "tags": [],
            "needs_background": "light"
          }
        },
        {
          "output_type": "stream",
          "text": [
            "Epoch 61  | Training loss: -2143735.03\n",
            "Epoch 62  | Training loss: -2143770.69\n",
            "Epoch 63  | Training loss: -2142632.34\n",
            "Epoch 64  | Training loss: -2144932.80\n",
            "Epoch 65  | Training loss: -2145454.96\n",
            "Epoch 66  | Training loss: -2145857.33\n",
            "Epoch 67  | Training loss: -2146342.67\n",
            "Epoch 68  | Training loss: -2146644.17\n",
            "Epoch 69  | Training loss: -2146891.59\n",
            "Epoch 70  | Training loss: -2147106.35\n"
          ],
          "name": "stdout"
        },
        {
          "output_type": "display_data",
          "data": {
            "image/png": "[encoded data removed]",
            "text/plain": [
              "<Figure size 720x144 with 21 Axes>"
            ]
          },
          "metadata": {
            "tags": [],
            "needs_background": "light"
          }
        },
        {
          "output_type": "stream",
          "text": [
            "Epoch 71  | Training loss: -2147229.83\n",
            "Epoch 72  | Training loss: -2147357.36\n",
            "Epoch 73  | Training loss: -2147828.50\n",
            "Epoch 74  | Training loss: -2147905.71\n",
            "Epoch 75  | Training loss: -2148267.45\n",
            "Epoch 76  | Training loss: -2148396.88\n",
            "Epoch 77  | Training loss: -2148435.30\n",
            "Epoch 78  | Training loss: -2148542.69\n",
            "Epoch 79  | Training loss: -2148718.08\n",
            "Epoch 80  | Training loss: -2147866.45\n"
          ],
          "name": "stdout"
        },
        {
          "output_type": "display_data",
          "data": {
            "image/png": "[encoded data removed]",
            "text/plain": [
              "<Figure size 720x144 with 21 Axes>"
            ]
          },
          "metadata": {
            "tags": [],
            "needs_background": "light"
          }
        },
        {
          "output_type": "stream",
          "text": [
            "Epoch 81  | Training loss: -2148941.58\n",
            "Epoch 82  | Training loss: -2149136.42\n",
            "Epoch 83  | Training loss: -2149037.71\n",
            "Epoch 84  | Training loss: -2149323.17\n",
            "Epoch 85  | Training loss: -2149154.13\n",
            "Epoch 86  | Training loss: -2148567.94\n",
            "Epoch 87  | Training loss: -2155622.72\n",
            "Epoch 88  | Training loss: -2158576.61\n",
            "Epoch 89  | Training loss: -2159277.19\n",
            "Epoch 90  | Training loss: -2160152.05\n"
          ],
          "name": "stdout"
        },
        {
          "output_type": "display_data",
          "data": {
            "image/png": "[encoded data removed]",
            "text/plain": [
              "<Figure size 720x144 with 21 Axes>"
            ]
          },
          "metadata": {
            "tags": [],
            "needs_background": "light"
          }
        },
        {
          "output_type": "stream",
          "text": [
            "Epoch 91  | Training loss: -2160600.84\n",
            "Epoch 92  | Training loss: -2161021.90\n",
            "Epoch 93  | Training loss: -2161771.79\n",
            "Epoch 94  | Training loss: -2161868.05\n",
            "Epoch 95  | Training loss: -2162223.26\n",
            "Epoch 96  | Training loss: -2162657.55\n",
            "Epoch 97  | Training loss: -2162702.55\n",
            "Epoch 98  | Training loss: -2163168.05\n",
            "Epoch 99  | Training loss: -2163641.19\n",
            "Epoch 100  | Training loss: -2163610.83\n"
          ],
          "name": "stdout"
        },
        {
          "output_type": "display_data",
          "data": {
            "image/png": "[encoded data removed]",
            "text/plain": [
              "<Figure size 720x144 with 21 Axes>"
            ]
          },
          "metadata": {
            "tags": [],
            "needs_background": "light"
          }
        },
        {
          "output_type": "stream",
          "text": [
            "Epoch 101  | Training loss: -2163971.41\n",
            "Epoch 102  | Training loss: -2166260.57\n",
            "Epoch 103  | Training loss: -2169012.29\n",
            "Epoch 104  | Training loss: -2169779.76\n",
            "Epoch 105  | Training loss: -2170377.39\n",
            "Epoch 106  | Training loss: -2171033.51\n",
            "Epoch 107  | Training loss: -2171064.74\n",
            "Epoch 108  | Training loss: -2171605.29\n",
            "Epoch 109  | Training loss: -2171347.68\n",
            "Epoch 110  | Training loss: -2171755.52\n"
          ],
          "name": "stdout"
        },
        {
          "output_type": "display_data",
          "data": {
            "image/png": "[encoded data removed]",
            "text/plain": [
              "<Figure size 720x144 with 21 Axes>"
            ]
          },
          "metadata": {
            "tags": [],
            "needs_background": "light"
          }
        },
        {
          "output_type": "stream",
          "text": [
            "Epoch 111  | Training loss: -2169814.98\n",
            "Epoch 112  | Training loss: -2171886.25\n",
            "Epoch 113  | Training loss: -2172739.55\n",
            "Epoch 114  | Training loss: -2172512.76\n",
            "Epoch 115  | Training loss: -2172919.92\n",
            "Epoch 116  | Training loss: -2173074.39\n",
            "Epoch 117  | Training loss: -2173030.87\n"
          ],
          "name": "stdout"
        }
      ]
    },
    {
      "cell_type": "code",
      "metadata": {
        "id": "qfpAbfJ54NqZ",
        "colab_type": "code",
        "colab": {}
      },
      "source": [
        "plot_samples(z_img.detach().numpy(), ys)"
      ],
      "execution_count": 0,
      "outputs": []
    },
    {
      "cell_type": "code",
      "metadata": {
        "id": "SG3hPgwq4SQy",
        "colab_type": "code",
        "colab": {}
      },
      "source": [
        "torch.save(vae_model.state_dict(), '/content/drive/My Drive/ML_Project/vae_2.pt')"
      ],
      "execution_count": 0,
      "outputs": []
    },
    {
      "cell_type": "code",
      "metadata": {
        "id": "88vvRm8jOA_F",
        "colab_type": "code",
        "colab": {}
      },
      "source": [
        "for epoch in range(500, 1001):\n",
        "    avg_loss = 0.0\n",
        "    for i, (xs, ys) in enumerate(trainloader):\n",
        "        optimizer.zero_grad()\n",
        "        z_img, mu, logvar = vae_model(xs.unsqueeze(dim=1))\n",
        "        loss = loss_function(z_img, xs, mu, logvar)\n",
        "        loss.backward()\n",
        "        optimizer.step()\n",
        "        avg_loss += loss.item()\n",
        "        \n",
        "        if epoch % 20 == 0 and i == len(trainloader) - 2:\n",
        "            torch.save(vae_model.state_dict(), '/content/drive/My Drive/ML_Project/vae.pt')\n",
        "            plot_samples(z_img.detach().numpy(), ys)\n",
        "    \n",
        "    print(f'\\nEpoch {epoch}  | Training loss: {avg_loss / len(trainloader) : .2f}')\n"
      ],
      "execution_count": 0,
      "outputs": []
    }
  ]
}